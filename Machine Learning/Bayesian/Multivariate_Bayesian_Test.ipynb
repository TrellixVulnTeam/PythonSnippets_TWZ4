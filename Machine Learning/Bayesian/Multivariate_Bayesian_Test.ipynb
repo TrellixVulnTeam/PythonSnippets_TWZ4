{
 "cells": [
  {
   "cell_type": "code",
   "execution_count": 1,
   "id": "2e6f6bdd-9987-42b4-a16c-869207ff891e",
   "metadata": {},
   "outputs": [
    {
     "name": "stdout",
     "output_type": "stream",
     "text": [
      "env: THEANO_FLAGS=\"gcc__cxxflags=-march=corei7-avx\"\n"
     ]
    }
   ],
   "source": [
    "%env THEANO_FLAGS=\"gcc__cxxflags=-march=corei7-avx\""
   ]
  },
  {
   "cell_type": "code",
   "execution_count": 2,
   "id": "629bb65f-a7fd-48bd-9376-a538593de382",
   "metadata": {},
   "outputs": [
    {
     "name": "stdout",
     "output_type": "stream",
     "text": [
      "3.11.2\n"
     ]
    }
   ],
   "source": [
    "import pandas as pd\n",
    "import numpy as np\n",
    "\n",
    "import theano.tensor as tt\n",
    "from theano import shared\n",
    "\n",
    "import pymc3 as pm\n",
    "import arviz as az\n",
    "\n",
    "from sklearn import datasets\n",
    "import statsmodels.api as sm\n",
    "\n",
    "from matplotlib import pyplot as plt\n",
    "\n",
    "print(pm.__version__)"
   ]
  },
  {
   "cell_type": "code",
   "execution_count": null,
   "id": "603810a4-3aff-4d9e-a13a-f34ccdbc5048",
   "metadata": {},
   "outputs": [],
   "source": [
    "features, "
   ]
  }
 ],
 "metadata": {
  "kernelspec": {
   "display_name": "Python 3",
   "language": "python",
   "name": "python3"
  },
  "language_info": {
   "codemirror_mode": {
    "name": "ipython",
    "version": 3
   },
   "file_extension": ".py",
   "mimetype": "text/x-python",
   "name": "python",
   "nbconvert_exporter": "python",
   "pygments_lexer": "ipython3",
   "version": "3.8.12"
  }
 },
 "nbformat": 4,
 "nbformat_minor": 5
}
